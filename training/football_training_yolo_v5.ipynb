{
 "cells": [
  {
   "cell_type": "code",
   "execution_count": null,
   "metadata": {},
   "outputs": [
    {
     "ename": "",
     "evalue": "",
     "output_type": "error",
     "traceback": [
      "\u001b[1;31mFailed to start the Kernel. \n",
      "\u001b[1;31mUnable to start Kernel 'Python 3.10.2' due to a timeout waiting for the ports to get used. \n",
      "\u001b[1;31mView Jupyter <a href='command:jupyter.viewOutput'>log</a> for further details."
     ]
    }
   ],
   "source": [
    "#!pip install ultralytics\n",
    "#!pip install roboflow"
   ]
  },
  {
   "cell_type": "code",
   "execution_count": null,
   "metadata": {},
   "outputs": [
    {
     "ename": "",
     "evalue": "",
     "output_type": "error",
     "traceback": [
      "\u001b[1;31mFailed to start the Kernel. \n",
      "\u001b[1;31mUnable to start Kernel 'Python 3.10.2' due to a timeout waiting for the ports to get used. \n",
      "\u001b[1;31mView Jupyter <a href='command:jupyter.viewOutput'>log</a> for further details."
     ]
    }
   ],
   "source": []
  },
  {
   "cell_type": "markdown",
   "metadata": {},
   "source": [
    "# Get Dataset"
   ]
  },
  {
   "cell_type": "code",
   "execution_count": null,
   "metadata": {},
   "outputs": [
    {
     "ename": "",
     "evalue": "",
     "output_type": "error",
     "traceback": [
      "\u001b[1;31mFailed to start the Kernel. \n",
      "\u001b[1;31mUnable to start Kernel 'Python 3.10.2' due to a timeout waiting for the ports to get used. \n",
      "\u001b[1;31mView Jupyter <a href='command:jupyter.viewOutput'>log</a> for further details."
     ]
    }
   ],
   "source": [
    "from roboflow import Roboflow\n",
    "rf = Roboflow(api_key=\"D0mKbBGZdehPNMQqv3xw\") # THIS API KEY IS REVOKED. PLEASE USE YOUR OWN API KEY\n",
    "project = rf.workspace(\"roboflow-jvuqo\").project(\"football-players-detection-3zvbc\")\n",
    "version = project.version(1)\n",
    "dataset = version.download(\"yolov5\")\n"
   ]
  },
  {
   "cell_type": "code",
   "execution_count": 1,
   "metadata": {},
   "outputs": [
    {
     "name": "stdout",
     "output_type": "stream",
     "text": [
      "loading Roboflow workspace...\n",
      "loading Roboflow project...\n"
     ]
    }
   ],
   "source": [
    "from roboflow import Roboflow\n",
    "rf = Roboflow(api_key=\"D0mKbBGZdehPNMQqv3xw\")\n",
    "project = rf.workspace(\"roboflow-jvuqo\").project(\"football-players-detection-3zvbc\")\n",
    "version = project.version(1)\n",
    "dataset = version.download(\"yolov5\")\n"
   ]
  },
  {
   "cell_type": "code",
   "execution_count": 2,
   "metadata": {},
   "outputs": [
    {
     "data": {
      "text/plain": [
       "'c:\\\\Users\\\\USER\\\\Desktop\\\\Football_Anal\\\\training\\\\football-players-detection-1'"
      ]
     },
     "execution_count": 2,
     "metadata": {},
     "output_type": "execute_result"
    }
   ],
   "source": [
    "dataset.location"
   ]
  },
  {
   "cell_type": "code",
   "execution_count": 6,
   "metadata": {},
   "outputs": [
    {
     "data": {
      "text/plain": [
       "'football-players-detection-1/football-players-detection-1/valid'"
      ]
     },
     "execution_count": 6,
     "metadata": {},
     "output_type": "execute_result"
    }
   ],
   "source": [
    "import shutil\n",
    "\n",
    "shutil.move('football-players-detection-1/train',\n",
    "            'football-players-detection-1/football-players-detection-1/train'\n",
    "            )\n",
    "\n",
    "shutil.move('football-players-detection-1/test',\n",
    "            'football-players-detection-1/football-players-detection-1/test'\n",
    "            )\n",
    "\n",
    "shutil.move('football-players-detection-1/valid',\n",
    "            'football-players-detection-1/football-players-detection-1/valid'\n",
    "            )"
   ]
  },
  {
   "cell_type": "code",
   "execution_count": 11,
   "metadata": {},
   "outputs": [
    {
     "ename": "NameError",
     "evalue": "name 'data' is not defined",
     "output_type": "error",
     "traceback": [
      "\u001b[1;31m---------------------------------------------------------------------------\u001b[0m",
      "\u001b[1;31mNameError\u001b[0m                                 Traceback (most recent call last)",
      "Cell \u001b[1;32mIn[11], line 1\u001b[0m\n\u001b[1;32m----> 1\u001b[0m {dataset\u001b[38;5;241m.\u001b[39mlocation}\u001b[38;5;241m/\u001b[39m\u001b[43mdata\u001b[49m\u001b[38;5;241m.\u001b[39myaml\n",
      "\u001b[1;31mNameError\u001b[0m: name 'data' is not defined"
     ]
    }
   ],
   "source": [
    "{dataset.location}/data.yaml\n"
   ]
  },
  {
   "cell_type": "markdown",
   "metadata": {},
   "source": [
    "# Training"
   ]
  },
  {
   "cell_type": "code",
   "execution_count": 13,
   "metadata": {},
   "outputs": [
    {
     "name": "stderr",
     "output_type": "stream",
     "text": [
      "\n",
      "  0%|          | 0.00/755k [00:00<?, ?B/s]\n",
      " 34%|███▍      | 256k/755k [00:00<00:00, 2.62MB/s]\n",
      " 85%|████████▍ | 640k/755k [00:00<00:00, 3.08MB/s]\n",
      "100%|██████████| 755k/755k [00:00<00:00, 3.32MB/s]\n",
      "\n",
      "\u001b[34m\u001b[1mtrain: \u001b[0mScanning C:\\Users\\USER\\Desktop\\Football_Anal\\training\\football-players-detection-1\\football-players-detection-1\\train\\labels...:   0%|          | 0/612 [00:00<?, ?it/s]\n",
      "\u001b[34m\u001b[1mtrain: \u001b[0mScanning C:\\Users\\USER\\Desktop\\Football_Anal\\training\\football-players-detection-1\\football-players-detection-1\\train\\labels... 1 images, 0 backgrounds, 0 corrupt:   0%|          | 1/612 [00:01<15:47,  1.55s/it]\n",
      "\u001b[34m\u001b[1mtrain: \u001b[0mScanning C:\\Users\\USER\\Desktop\\Football_Anal\\training\\football-players-detection-1\\football-players-detection-1\\train\\labels... 4 images, 0 backgrounds, 0 corrupt:   1%|          | 4/612 [00:01<03:29,  2.91it/s]\n",
      "\u001b[34m\u001b[1mtrain: \u001b[0mScanning C:\\Users\\USER\\Desktop\\Football_Anal\\training\\football-players-detection-1\\football-players-detection-1\\train\\labels... 7 images, 0 backgrounds, 0 corrupt:   1%|          | 7/612 [00:01<01:50,  5.48it/s]\n",
      "\u001b[34m\u001b[1mtrain: \u001b[0mScanning C:\\Users\\USER\\Desktop\\Football_Anal\\training\\football-players-detection-1\\football-players-detection-1\\train\\labels... 12 images, 0 backgrounds, 0 corrupt:   2%|▏         | 12/612 [00:02<00:57, 10.52it/s]\n",
      "\u001b[34m\u001b[1mtrain: \u001b[0mScanning C:\\Users\\USER\\Desktop\\Football_Anal\\training\\football-players-detection-1\\football-players-detection-1\\train\\labels... 16 images, 0 backgrounds, 0 corrupt:   3%|▎         | 16/612 [00:02<00:40, 14.77it/s]\n",
      "\u001b[34m\u001b[1mtrain: \u001b[0mScanning C:\\Users\\USER\\Desktop\\Football_Anal\\training\\football-players-detection-1\\football-players-detection-1\\train\\labels... 21 images, 0 backgrounds, 0 corrupt:   3%|▎         | 21/612 [00:02<00:30, 19.62it/s]\n",
      "\u001b[34m\u001b[1mtrain: \u001b[0mScanning C:\\Users\\USER\\Desktop\\Football_Anal\\training\\football-players-detection-1\\football-players-detection-1\\train\\labels... 28 images, 0 backgrounds, 0 corrupt:   5%|▍         | 28/612 [00:02<00:21, 27.43it/s]\n",
      "\u001b[34m\u001b[1mtrain: \u001b[0mScanning C:\\Users\\USER\\Desktop\\Football_Anal\\training\\football-players-detection-1\\football-players-detection-1\\train\\labels... 33 images, 0 backgrounds, 0 corrupt:   5%|▌         | 33/612 [00:02<00:18, 31.05it/s]\n",
      "\u001b[34m\u001b[1mtrain: \u001b[0mScanning C:\\Users\\USER\\Desktop\\Football_Anal\\training\\football-players-detection-1\\football-players-detection-1\\train\\labels... 38 images, 0 backgrounds, 0 corrupt:   6%|▌         | 38/612 [00:02<00:17, 32.78it/s]\n",
      "\u001b[34m\u001b[1mtrain: \u001b[0mScanning C:\\Users\\USER\\Desktop\\Football_Anal\\training\\football-players-detection-1\\football-players-detection-1\\train\\labels... 43 images, 0 backgrounds, 0 corrupt:   7%|▋         | 43/612 [00:02<00:17, 31.85it/s]\n",
      "\u001b[34m\u001b[1mtrain: \u001b[0mScanning C:\\Users\\USER\\Desktop\\Football_Anal\\training\\football-players-detection-1\\football-players-detection-1\\train\\labels... 50 images, 0 backgrounds, 0 corrupt:   8%|▊         | 50/612 [00:02<00:15, 37.40it/s]\n",
      "\u001b[34m\u001b[1mtrain: \u001b[0mScanning C:\\Users\\USER\\Desktop\\Football_Anal\\training\\football-players-detection-1\\football-players-detection-1\\train\\labels... 57 images, 0 backgrounds, 0 corrupt:   9%|▉         | 57/612 [00:03<00:12, 43.69it/s]\n",
      "\u001b[34m\u001b[1mtrain: \u001b[0mScanning C:\\Users\\USER\\Desktop\\Football_Anal\\training\\football-players-detection-1\\football-players-detection-1\\train\\labels... 62 images, 0 backgrounds, 0 corrupt:  10%|█         | 62/612 [00:03<00:12, 42.93it/s]\n",
      "\u001b[34m\u001b[1mtrain: \u001b[0mScanning C:\\Users\\USER\\Desktop\\Football_Anal\\training\\football-players-detection-1\\football-players-detection-1\\train\\labels... 67 images, 0 backgrounds, 0 corrupt:  11%|█         | 67/612 [00:03<00:16, 32.47it/s]\n",
      "\u001b[34m\u001b[1mtrain: \u001b[0mScanning C:\\Users\\USER\\Desktop\\Football_Anal\\training\\football-players-detection-1\\football-players-detection-1\\train\\labels... 72 images, 0 backgrounds, 0 corrupt:  12%|█▏        | 72/612 [00:03<00:15, 34.86it/s]\n",
      "\u001b[34m\u001b[1mtrain: \u001b[0mScanning C:\\Users\\USER\\Desktop\\Football_Anal\\training\\football-players-detection-1\\football-players-detection-1\\train\\labels... 77 images, 0 backgrounds, 0 corrupt:  13%|█▎        | 77/612 [00:03<00:14, 35.77it/s]\n",
      "\u001b[34m\u001b[1mtrain: \u001b[0mScanning C:\\Users\\USER\\Desktop\\Football_Anal\\training\\football-players-detection-1\\football-players-detection-1\\train\\labels... 83 images, 0 backgrounds, 0 corrupt:  14%|█▎        | 83/612 [00:03<00:14, 35.85it/s]\n",
      "\u001b[34m\u001b[1mtrain: \u001b[0mScanning C:\\Users\\USER\\Desktop\\Football_Anal\\training\\football-players-detection-1\\football-players-detection-1\\train\\labels... 88 images, 0 backgrounds, 0 corrupt:  14%|█▍        | 88/612 [00:03<00:14, 36.18it/s]\n",
      "\u001b[34m\u001b[1mtrain: \u001b[0mScanning C:\\Users\\USER\\Desktop\\Football_Anal\\training\\football-players-detection-1\\football-players-detection-1\\train\\labels... 92 images, 0 backgrounds, 0 corrupt:  15%|█▌        | 92/612 [00:04<00:14, 36.95it/s]\n",
      "\u001b[34m\u001b[1mtrain: \u001b[0mScanning C:\\Users\\USER\\Desktop\\Football_Anal\\training\\football-players-detection-1\\football-players-detection-1\\train\\labels... 96 images, 0 backgrounds, 0 corrupt:  16%|█▌        | 96/612 [00:04<00:16, 30.98it/s]\n",
      "\u001b[34m\u001b[1mtrain: \u001b[0mScanning C:\\Users\\USER\\Desktop\\Football_Anal\\training\\football-players-detection-1\\football-players-detection-1\\train\\labels... 101 images, 0 backgrounds, 0 corrupt:  17%|█▋        | 101/612 [00:04<00:15, 32.09it/s]\n",
      "\u001b[34m\u001b[1mtrain: \u001b[0mScanning C:\\Users\\USER\\Desktop\\Football_Anal\\training\\football-players-detection-1\\football-players-detection-1\\train\\labels... 106 images, 0 backgrounds, 0 corrupt:  17%|█▋        | 106/612 [00:04<00:15, 32.72it/s]\n",
      "\u001b[34m\u001b[1mtrain: \u001b[0mScanning C:\\Users\\USER\\Desktop\\Football_Anal\\training\\football-players-detection-1\\football-players-detection-1\\train\\labels... 111 images, 0 backgrounds, 0 corrupt:  18%|█▊        | 111/612 [00:04<00:13, 36.61it/s]\n",
      "\u001b[34m\u001b[1mtrain: \u001b[0mScanning C:\\Users\\USER\\Desktop\\Football_Anal\\training\\football-players-detection-1\\football-players-detection-1\\train\\labels... 116 images, 0 backgrounds, 0 corrupt:  19%|█▉        | 116/612 [00:04<00:13, 36.88it/s]\n",
      "\u001b[34m\u001b[1mtrain: \u001b[0mScanning C:\\Users\\USER\\Desktop\\Football_Anal\\training\\football-players-detection-1\\football-players-detection-1\\train\\labels... 122 images, 0 backgrounds, 0 corrupt:  20%|█▉        | 122/612 [00:04<00:11, 42.32it/s]\n",
      "\u001b[34m\u001b[1mtrain: \u001b[0mScanning C:\\Users\\USER\\Desktop\\Football_Anal\\training\\football-players-detection-1\\football-players-detection-1\\train\\labels... 127 images, 0 backgrounds, 0 corrupt:  21%|██        | 127/612 [00:05<00:19, 25.01it/s]\n",
      "\u001b[34m\u001b[1mtrain: \u001b[0mScanning C:\\Users\\USER\\Desktop\\Football_Anal\\training\\football-players-detection-1\\football-players-detection-1\\train\\labels... 131 images, 0 backgrounds, 0 corrupt:  21%|██▏       | 131/612 [00:05<00:17, 26.83it/s]\n",
      "\u001b[34m\u001b[1mtrain: \u001b[0mScanning C:\\Users\\USER\\Desktop\\Football_Anal\\training\\football-players-detection-1\\football-players-detection-1\\train\\labels... 137 images, 0 backgrounds, 0 corrupt:  22%|██▏       | 137/612 [00:05<00:15, 30.31it/s]\n",
      "\u001b[34m\u001b[1mtrain: \u001b[0mScanning C:\\Users\\USER\\Desktop\\Football_Anal\\training\\football-players-detection-1\\football-players-detection-1\\train\\labels... 141 images, 0 backgrounds, 0 corrupt:  23%|██▎       | 141/612 [00:05<00:15, 30.28it/s]\n",
      "\u001b[34m\u001b[1mtrain: \u001b[0mScanning C:\\Users\\USER\\Desktop\\Football_Anal\\training\\football-players-detection-1\\football-players-detection-1\\train\\labels... 145 images, 0 backgrounds, 0 corrupt:  24%|██▎       | 145/612 [00:05<00:14, 32.33it/s]\n",
      "\u001b[34m\u001b[1mtrain: \u001b[0mScanning C:\\Users\\USER\\Desktop\\Football_Anal\\training\\football-players-detection-1\\football-players-detection-1\\train\\labels... 149 images, 0 backgrounds, 0 corrupt:  24%|██▍       | 149/612 [00:05<00:13, 34.11it/s]\n",
      "\u001b[34m\u001b[1mtrain: \u001b[0mScanning C:\\Users\\USER\\Desktop\\Football_Anal\\training\\football-players-detection-1\\football-players-detection-1\\train\\labels... 153 images, 0 backgrounds, 0 corrupt:  25%|██▌       | 153/612 [00:06<00:15, 30.33it/s]\n",
      "\u001b[34m\u001b[1mtrain: \u001b[0mScanning C:\\Users\\USER\\Desktop\\Football_Anal\\training\\football-players-detection-1\\football-players-detection-1\\train\\labels... 158 images, 0 backgrounds, 0 corrupt:  26%|██▌       | 158/612 [00:06<00:13, 34.86it/s]\n",
      "\u001b[34m\u001b[1mtrain: \u001b[0mScanning C:\\Users\\USER\\Desktop\\Football_Anal\\training\\football-players-detection-1\\football-players-detection-1\\train\\labels... 162 images, 0 backgrounds, 0 corrupt:  26%|██▋       | 162/612 [00:06<00:15, 29.76it/s]\n",
      "\u001b[34m\u001b[1mtrain: \u001b[0mScanning C:\\Users\\USER\\Desktop\\Football_Anal\\training\\football-players-detection-1\\football-players-detection-1\\train\\labels... 167 images, 0 backgrounds, 0 corrupt:  27%|██▋       | 167/612 [00:06<00:13, 33.54it/s]\n",
      "\u001b[34m\u001b[1mtrain: \u001b[0mScanning C:\\Users\\USER\\Desktop\\Football_Anal\\training\\football-players-detection-1\\football-players-detection-1\\train\\labels... 171 images, 0 backgrounds, 0 corrupt:  28%|██▊       | 171/612 [00:06<00:14, 30.24it/s]\n",
      "\u001b[34m\u001b[1mtrain: \u001b[0mScanning C:\\Users\\USER\\Desktop\\Football_Anal\\training\\football-players-detection-1\\football-players-detection-1\\train\\labels... 175 images, 0 backgrounds, 0 corrupt:  29%|██▊       | 175/612 [00:06<00:13, 32.22it/s]\n",
      "\u001b[34m\u001b[1mtrain: \u001b[0mScanning C:\\Users\\USER\\Desktop\\Football_Anal\\training\\football-players-detection-1\\football-players-detection-1\\train\\labels... 181 images, 0 backgrounds, 0 corrupt:  30%|██▉       | 181/612 [00:06<00:11, 36.32it/s]\n",
      "\u001b[34m\u001b[1mtrain: \u001b[0mScanning C:\\Users\\USER\\Desktop\\Football_Anal\\training\\football-players-detection-1\\football-players-detection-1\\train\\labels... 185 images, 0 backgrounds, 0 corrupt:  30%|███       | 185/612 [00:06<00:13, 32.00it/s]\n",
      "\u001b[34m\u001b[1mtrain: \u001b[0mScanning C:\\Users\\USER\\Desktop\\Football_Anal\\training\\football-players-detection-1\\football-players-detection-1\\train\\labels... 191 images, 0 backgrounds, 0 corrupt:  31%|███       | 191/612 [00:07<00:11, 35.55it/s]\n",
      "\u001b[34m\u001b[1mtrain: \u001b[0mScanning C:\\Users\\USER\\Desktop\\Football_Anal\\training\\football-players-detection-1\\football-players-detection-1\\train\\labels... 195 images, 0 backgrounds, 0 corrupt:  32%|███▏      | 195/612 [00:07<00:12, 32.91it/s]\n",
      "\u001b[34m\u001b[1mtrain: \u001b[0mScanning C:\\Users\\USER\\Desktop\\Football_Anal\\training\\football-players-detection-1\\football-players-detection-1\\train\\labels... 203 images, 0 backgrounds, 0 corrupt:  33%|███▎      | 203/612 [00:07<00:09, 42.16it/s]\n",
      "\u001b[34m\u001b[1mtrain: \u001b[0mScanning C:\\Users\\USER\\Desktop\\Football_Anal\\training\\football-players-detection-1\\football-players-detection-1\\train\\labels... 210 images, 0 backgrounds, 0 corrupt:  34%|███▍      | 210/612 [00:07<00:08, 48.83it/s]\n",
      "\u001b[34m\u001b[1mtrain: \u001b[0mScanning C:\\Users\\USER\\Desktop\\Football_Anal\\training\\football-players-detection-1\\football-players-detection-1\\train\\labels... 216 images, 0 backgrounds, 0 corrupt:  35%|███▌      | 216/612 [00:07<00:08, 45.94it/s]\n",
      "\u001b[34m\u001b[1mtrain: \u001b[0mScanning C:\\Users\\USER\\Desktop\\Football_Anal\\training\\football-players-detection-1\\football-players-detection-1\\train\\labels... 221 images, 0 backgrounds, 0 corrupt:  36%|███▌      | 221/612 [00:07<00:08, 45.03it/s]\n",
      "\u001b[34m\u001b[1mtrain: \u001b[0mScanning C:\\Users\\USER\\Desktop\\Football_Anal\\training\\football-players-detection-1\\football-players-detection-1\\train\\labels... 227 images, 0 backgrounds, 0 corrupt:  37%|███▋      | 227/612 [00:07<00:08, 45.10it/s]\n",
      "\u001b[34m\u001b[1mtrain: \u001b[0mScanning C:\\Users\\USER\\Desktop\\Football_Anal\\training\\football-players-detection-1\\football-players-detection-1\\train\\labels... 233 images, 0 backgrounds, 0 corrupt:  38%|███▊      | 233/612 [00:07<00:07, 48.69it/s]\n",
      "\u001b[34m\u001b[1mtrain: \u001b[0mScanning C:\\Users\\USER\\Desktop\\Football_Anal\\training\\football-players-detection-1\\football-players-detection-1\\train\\labels... 239 images, 0 backgrounds, 0 corrupt:  39%|███▉      | 239/612 [00:08<00:08, 45.39it/s]\n",
      "\u001b[34m\u001b[1mtrain: \u001b[0mScanning C:\\Users\\USER\\Desktop\\Football_Anal\\training\\football-players-detection-1\\football-players-detection-1\\train\\labels... 244 images, 0 backgrounds, 0 corrupt:  40%|███▉      | 244/612 [00:08<00:08, 45.01it/s]\n",
      "\u001b[34m\u001b[1mtrain: \u001b[0mScanning C:\\Users\\USER\\Desktop\\Football_Anal\\training\\football-players-detection-1\\football-players-detection-1\\train\\labels... 249 images, 0 backgrounds, 0 corrupt:  41%|████      | 249/612 [00:08<00:08, 42.69it/s]\n",
      "\u001b[34m\u001b[1mtrain: \u001b[0mScanning C:\\Users\\USER\\Desktop\\Football_Anal\\training\\football-players-detection-1\\football-players-detection-1\\train\\labels... 255 images, 0 backgrounds, 0 corrupt:  42%|████▏     | 255/612 [00:08<00:08, 40.07it/s]\n",
      "\u001b[34m\u001b[1mtrain: \u001b[0mScanning C:\\Users\\USER\\Desktop\\Football_Anal\\training\\football-players-detection-1\\football-players-detection-1\\train\\labels... 262 images, 0 backgrounds, 0 corrupt:  43%|████▎     | 262/612 [00:08<00:07, 45.60it/s]\n",
      "\u001b[34m\u001b[1mtrain: \u001b[0mScanning C:\\Users\\USER\\Desktop\\Football_Anal\\training\\football-players-detection-1\\football-players-detection-1\\train\\labels... 267 images, 0 backgrounds, 0 corrupt:  44%|████▎     | 267/612 [00:08<00:09, 37.45it/s]\n",
      "\u001b[34m\u001b[1mtrain: \u001b[0mScanning C:\\Users\\USER\\Desktop\\Football_Anal\\training\\football-players-detection-1\\football-players-detection-1\\train\\labels... 274 images, 0 backgrounds, 0 corrupt:  45%|████▍     | 274/612 [00:08<00:07, 43.05it/s]\n",
      "\u001b[34m\u001b[1mtrain: \u001b[0mScanning C:\\Users\\USER\\Desktop\\Football_Anal\\training\\football-players-detection-1\\football-players-detection-1\\train\\labels... 280 images, 0 backgrounds, 0 corrupt:  46%|████▌     | 280/612 [00:09<00:07, 44.91it/s]\n",
      "\u001b[34m\u001b[1mtrain: \u001b[0mScanning C:\\Users\\USER\\Desktop\\Football_Anal\\training\\football-players-detection-1\\football-players-detection-1\\train\\labels... 285 images, 0 backgrounds, 0 corrupt:  47%|████▋     | 285/612 [00:09<00:07, 43.06it/s]\n",
      "\u001b[34m\u001b[1mtrain: \u001b[0mScanning C:\\Users\\USER\\Desktop\\Football_Anal\\training\\football-players-detection-1\\football-players-detection-1\\train\\labels... 292 images, 0 backgrounds, 0 corrupt:  48%|████▊     | 292/612 [00:09<00:06, 49.59it/s]\n",
      "\u001b[34m\u001b[1mtrain: \u001b[0mScanning C:\\Users\\USER\\Desktop\\Football_Anal\\training\\football-players-detection-1\\football-players-detection-1\\train\\labels... 298 images, 0 backgrounds, 0 corrupt:  49%|████▊     | 298/612 [00:09<00:06, 48.07it/s]\n",
      "\u001b[34m\u001b[1mtrain: \u001b[0mScanning C:\\Users\\USER\\Desktop\\Football_Anal\\training\\football-players-detection-1\\football-players-detection-1\\train\\labels... 305 images, 0 backgrounds, 0 corrupt:  50%|████▉     | 305/612 [00:09<00:06, 47.63it/s]\n",
      "\u001b[34m\u001b[1mtrain: \u001b[0mScanning C:\\Users\\USER\\Desktop\\Football_Anal\\training\\football-players-detection-1\\football-players-detection-1\\train\\labels... 310 images, 0 backgrounds, 0 corrupt:  51%|█████     | 310/612 [00:09<00:06, 44.65it/s]\n",
      "\u001b[34m\u001b[1mtrain: \u001b[0mScanning C:\\Users\\USER\\Desktop\\Football_Anal\\training\\football-players-detection-1\\football-players-detection-1\\train\\labels... 315 images, 0 backgrounds, 0 corrupt:  51%|█████▏    | 315/612 [00:09<00:06, 44.12it/s]\n",
      "\u001b[34m\u001b[1mtrain: \u001b[0mScanning C:\\Users\\USER\\Desktop\\Football_Anal\\training\\football-players-detection-1\\football-players-detection-1\\train\\labels... 320 images, 0 backgrounds, 0 corrupt:  52%|█████▏    | 320/612 [00:09<00:06, 45.58it/s]\n",
      "\u001b[34m\u001b[1mtrain: \u001b[0mScanning C:\\Users\\USER\\Desktop\\Football_Anal\\training\\football-players-detection-1\\football-players-detection-1\\train\\labels... 327 images, 0 backgrounds, 0 corrupt:  53%|█████▎    | 327/612 [00:10<00:05, 49.77it/s]\n",
      "\u001b[34m\u001b[1mtrain: \u001b[0mScanning C:\\Users\\USER\\Desktop\\Football_Anal\\training\\football-players-detection-1\\football-players-detection-1\\train\\labels... 333 images, 0 backgrounds, 0 corrupt:  54%|█████▍    | 333/612 [00:10<00:06, 43.03it/s]\n",
      "\u001b[34m\u001b[1mtrain: \u001b[0mScanning C:\\Users\\USER\\Desktop\\Football_Anal\\training\\football-players-detection-1\\football-players-detection-1\\train\\labels... 339 images, 0 backgrounds, 0 corrupt:  55%|█████▌    | 339/612 [00:10<00:05, 47.00it/s]\n",
      "\u001b[34m\u001b[1mtrain: \u001b[0mScanning C:\\Users\\USER\\Desktop\\Football_Anal\\training\\football-players-detection-1\\football-players-detection-1\\train\\labels... 346 images, 0 backgrounds, 0 corrupt:  57%|█████▋    | 346/612 [00:10<00:05, 50.79it/s]\n",
      "\u001b[34m\u001b[1mtrain: \u001b[0mScanning C:\\Users\\USER\\Desktop\\Football_Anal\\training\\football-players-detection-1\\football-players-detection-1\\train\\labels... 352 images, 0 backgrounds, 0 corrupt:  58%|█████▊    | 352/612 [00:10<00:05, 50.62it/s]\n",
      "\u001b[34m\u001b[1mtrain: \u001b[0mScanning C:\\Users\\USER\\Desktop\\Football_Anal\\training\\football-players-detection-1\\football-players-detection-1\\train\\labels... 359 images, 0 backgrounds, 0 corrupt:  59%|█████▊    | 359/612 [00:10<00:04, 53.86it/s]\n",
      "\u001b[34m\u001b[1mtrain: \u001b[0mScanning C:\\Users\\USER\\Desktop\\Football_Anal\\training\\football-players-detection-1\\football-players-detection-1\\train\\labels... 365 images, 0 backgrounds, 0 corrupt:  60%|█████▉    | 365/612 [00:10<00:04, 53.06it/s]\n",
      "\u001b[34m\u001b[1mtrain: \u001b[0mScanning C:\\Users\\USER\\Desktop\\Football_Anal\\training\\football-players-detection-1\\football-players-detection-1\\train\\labels... 372 images, 0 backgrounds, 0 corrupt:  61%|██████    | 372/612 [00:10<00:04, 52.88it/s]\n",
      "\u001b[34m\u001b[1mtrain: \u001b[0mScanning C:\\Users\\USER\\Desktop\\Football_Anal\\training\\football-players-detection-1\\football-players-detection-1\\train\\labels... 379 images, 0 backgrounds, 0 corrupt:  62%|██████▏   | 379/612 [00:11<00:04, 57.20it/s]\n",
      "\u001b[34m\u001b[1mtrain: \u001b[0mScanning C:\\Users\\USER\\Desktop\\Football_Anal\\training\\football-players-detection-1\\football-players-detection-1\\train\\labels... 385 images, 0 backgrounds, 0 corrupt:  63%|██████▎   | 385/612 [00:11<00:05, 44.11it/s]\n",
      "\u001b[34m\u001b[1mtrain: \u001b[0mScanning C:\\Users\\USER\\Desktop\\Football_Anal\\training\\football-players-detection-1\\football-players-detection-1\\train\\labels... 393 images, 0 backgrounds, 0 corrupt:  64%|██████▍   | 393/612 [00:11<00:04, 46.86it/s]\n",
      "\u001b[34m\u001b[1mtrain: \u001b[0mScanning C:\\Users\\USER\\Desktop\\Football_Anal\\training\\football-players-detection-1\\football-players-detection-1\\train\\labels... 399 images, 0 backgrounds, 0 corrupt:  65%|██████▌   | 399/612 [00:11<00:04, 46.35it/s]\n",
      "\u001b[34m\u001b[1mtrain: \u001b[0mScanning C:\\Users\\USER\\Desktop\\Football_Anal\\training\\football-players-detection-1\\football-players-detection-1\\train\\labels... 405 images, 0 backgrounds, 0 corrupt:  66%|██████▌   | 405/612 [00:11<00:04, 43.02it/s]\n",
      "\u001b[34m\u001b[1mtrain: \u001b[0mScanning C:\\Users\\USER\\Desktop\\Football_Anal\\training\\football-players-detection-1\\football-players-detection-1\\train\\labels... 414 images, 0 backgrounds, 0 corrupt:  68%|██████▊   | 414/612 [00:11<00:03, 49.74it/s]\n",
      "\u001b[34m\u001b[1mtrain: \u001b[0mScanning C:\\Users\\USER\\Desktop\\Football_Anal\\training\\football-players-detection-1\\football-players-detection-1\\train\\labels... 420 images, 0 backgrounds, 0 corrupt:  69%|██████▊   | 420/612 [00:12<00:03, 48.26it/s]\n",
      "\u001b[34m\u001b[1mtrain: \u001b[0mScanning C:\\Users\\USER\\Desktop\\Football_Anal\\training\\football-players-detection-1\\football-players-detection-1\\train\\labels... 427 images, 0 backgrounds, 0 corrupt:  70%|██████▉   | 427/612 [00:12<00:03, 53.13it/s]\n",
      "\u001b[34m\u001b[1mtrain: \u001b[0mScanning C:\\Users\\USER\\Desktop\\Football_Anal\\training\\football-players-detection-1\\football-players-detection-1\\train\\labels... 435 images, 0 backgrounds, 0 corrupt:  71%|███████   | 435/612 [00:12<00:03, 58.47it/s]\n",
      "\u001b[34m\u001b[1mtrain: \u001b[0mScanning C:\\Users\\USER\\Desktop\\Football_Anal\\training\\football-players-detection-1\\football-players-detection-1\\train\\labels... 442 images, 0 backgrounds, 0 corrupt:  72%|███████▏  | 442/612 [00:12<00:02, 58.18it/s]\n",
      "\u001b[34m\u001b[1mtrain: \u001b[0mScanning C:\\Users\\USER\\Desktop\\Football_Anal\\training\\football-players-detection-1\\football-players-detection-1\\train\\labels... 448 images, 0 backgrounds, 0 corrupt:  73%|███████▎  | 448/612 [00:12<00:03, 43.64it/s]\n",
      "\u001b[34m\u001b[1mtrain: \u001b[0mScanning C:\\Users\\USER\\Desktop\\Football_Anal\\training\\football-players-detection-1\\football-players-detection-1\\train\\labels... 454 images, 0 backgrounds, 0 corrupt:  74%|███████▍  | 454/612 [00:12<00:03, 47.16it/s]\n",
      "\u001b[34m\u001b[1mtrain: \u001b[0mScanning C:\\Users\\USER\\Desktop\\Football_Anal\\training\\football-players-detection-1\\football-players-detection-1\\train\\labels... 461 images, 0 backgrounds, 0 corrupt:  75%|███████▌  | 461/612 [00:12<00:02, 52.28it/s]\n",
      "\u001b[34m\u001b[1mtrain: \u001b[0mScanning C:\\Users\\USER\\Desktop\\Football_Anal\\training\\football-players-detection-1\\football-players-detection-1\\train\\labels... 469 images, 0 backgrounds, 0 corrupt:  77%|███████▋  | 469/612 [00:12<00:02, 57.29it/s]\n",
      "\u001b[34m\u001b[1mtrain: \u001b[0mScanning C:\\Users\\USER\\Desktop\\Football_Anal\\training\\football-players-detection-1\\football-players-detection-1\\train\\labels... 477 images, 0 backgrounds, 0 corrupt:  78%|███████▊  | 477/612 [00:12<00:02, 62.69it/s]\n",
      "\u001b[34m\u001b[1mtrain: \u001b[0mScanning C:\\Users\\USER\\Desktop\\Football_Anal\\training\\football-players-detection-1\\football-players-detection-1\\train\\labels... 485 images, 0 backgrounds, 0 corrupt:  79%|███████▉  | 485/612 [00:13<00:02, 62.08it/s]\n",
      "\u001b[34m\u001b[1mtrain: \u001b[0mScanning C:\\Users\\USER\\Desktop\\Football_Anal\\training\\football-players-detection-1\\football-players-detection-1\\train\\labels... 494 images, 0 backgrounds, 0 corrupt:  81%|████████  | 494/612 [00:13<00:01, 68.81it/s]\n",
      "\u001b[34m\u001b[1mtrain: \u001b[0mScanning C:\\Users\\USER\\Desktop\\Football_Anal\\training\\football-players-detection-1\\football-players-detection-1\\train\\labels... 502 images, 0 backgrounds, 0 corrupt:  82%|████████▏ | 502/612 [00:13<00:01, 61.39it/s]\n",
      "\u001b[34m\u001b[1mtrain: \u001b[0mScanning C:\\Users\\USER\\Desktop\\Football_Anal\\training\\football-players-detection-1\\football-players-detection-1\\train\\labels... 509 images, 0 backgrounds, 0 corrupt:  83%|████████▎ | 509/612 [00:13<00:01, 58.59it/s]\n",
      "\u001b[34m\u001b[1mtrain: \u001b[0mScanning C:\\Users\\USER\\Desktop\\Football_Anal\\training\\football-players-detection-1\\football-players-detection-1\\train\\labels... 516 images, 0 backgrounds, 0 corrupt:  84%|████████▍ | 516/612 [00:13<00:01, 52.83it/s]\n",
      "\u001b[34m\u001b[1mtrain: \u001b[0mScanning C:\\Users\\USER\\Desktop\\Football_Anal\\training\\football-players-detection-1\\football-players-detection-1\\train\\labels... 522 images, 0 backgrounds, 0 corrupt:  85%|████████▌ | 522/612 [00:13<00:01, 48.78it/s]\n",
      "\u001b[34m\u001b[1mtrain: \u001b[0mScanning C:\\Users\\USER\\Desktop\\Football_Anal\\training\\football-players-detection-1\\football-players-detection-1\\train\\labels... 529 images, 0 backgrounds, 0 corrupt:  86%|████████▋ | 529/612 [00:13<00:01, 49.57it/s]\n",
      "\u001b[34m\u001b[1mtrain: \u001b[0mScanning C:\\Users\\USER\\Desktop\\Football_Anal\\training\\football-players-detection-1\\football-players-detection-1\\train\\labels... 535 images, 0 backgrounds, 0 corrupt:  87%|████████▋ | 535/612 [00:14<00:01, 46.88it/s]\n",
      "\u001b[34m\u001b[1mtrain: \u001b[0mScanning C:\\Users\\USER\\Desktop\\Football_Anal\\training\\football-players-detection-1\\football-players-detection-1\\train\\labels... 543 images, 0 backgrounds, 0 corrupt:  89%|████████▊ | 543/612 [00:14<00:01, 50.59it/s]\n",
      "\u001b[34m\u001b[1mtrain: \u001b[0mScanning C:\\Users\\USER\\Desktop\\Football_Anal\\training\\football-players-detection-1\\football-players-detection-1\\train\\labels... 550 images, 0 backgrounds, 0 corrupt:  90%|████████▉ | 550/612 [00:14<00:01, 51.08it/s]\n",
      "\u001b[34m\u001b[1mtrain: \u001b[0mScanning C:\\Users\\USER\\Desktop\\Football_Anal\\training\\football-players-detection-1\\football-players-detection-1\\train\\labels... 556 images, 0 backgrounds, 0 corrupt:  91%|█████████ | 556/612 [00:14<00:01, 49.17it/s]\n",
      "\u001b[34m\u001b[1mtrain: \u001b[0mScanning C:\\Users\\USER\\Desktop\\Football_Anal\\training\\football-players-detection-1\\football-players-detection-1\\train\\labels... 564 images, 0 backgrounds, 0 corrupt:  92%|█████████▏| 564/612 [00:14<00:00, 56.43it/s]\n",
      "\u001b[34m\u001b[1mtrain: \u001b[0mScanning C:\\Users\\USER\\Desktop\\Football_Anal\\training\\football-players-detection-1\\football-players-detection-1\\train\\labels... 573 images, 0 backgrounds, 0 corrupt:  94%|█████████▎| 573/612 [00:14<00:00, 62.20it/s]\n",
      "\u001b[34m\u001b[1mtrain: \u001b[0mScanning C:\\Users\\USER\\Desktop\\Football_Anal\\training\\football-players-detection-1\\football-players-detection-1\\train\\labels... 580 images, 0 backgrounds, 0 corrupt:  95%|█████████▍| 580/612 [00:14<00:00, 59.57it/s]\n",
      "\u001b[34m\u001b[1mtrain: \u001b[0mScanning C:\\Users\\USER\\Desktop\\Football_Anal\\training\\football-players-detection-1\\football-players-detection-1\\train\\labels... 587 images, 0 backgrounds, 0 corrupt:  96%|█████████▌| 587/612 [00:14<00:00, 59.59it/s]\n",
      "\u001b[34m\u001b[1mtrain: \u001b[0mScanning C:\\Users\\USER\\Desktop\\Football_Anal\\training\\football-players-detection-1\\football-players-detection-1\\train\\labels... 594 images, 0 backgrounds, 0 corrupt:  97%|█████████▋| 594/612 [00:15<00:00, 55.24it/s]\n",
      "\u001b[34m\u001b[1mtrain: \u001b[0mScanning C:\\Users\\USER\\Desktop\\Football_Anal\\training\\football-players-detection-1\\football-players-detection-1\\train\\labels... 602 images, 0 backgrounds, 0 corrupt:  98%|█████████▊| 602/612 [00:15<00:00, 44.52it/s]\n",
      "\u001b[34m\u001b[1mtrain: \u001b[0mScanning C:\\Users\\USER\\Desktop\\Football_Anal\\training\\football-players-detection-1\\football-players-detection-1\\train\\labels... 607 images, 0 backgrounds, 0 corrupt:  99%|█████████▉| 607/612 [00:15<00:00, 43.06it/s]\n",
      "\u001b[34m\u001b[1mtrain: \u001b[0mScanning C:\\Users\\USER\\Desktop\\Football_Anal\\training\\football-players-detection-1\\football-players-detection-1\\train\\labels... 612 images, 0 backgrounds, 0 corrupt: 100%|██████████| 612/612 [00:15<00:00, 37.11it/s]\n",
      "\u001b[34m\u001b[1mtrain: \u001b[0mScanning C:\\Users\\USER\\Desktop\\Football_Anal\\training\\football-players-detection-1\\football-players-detection-1\\train\\labels... 612 images, 0 backgrounds, 0 corrupt: 100%|██████████| 612/612 [00:15<00:00, 38.92it/s]\n",
      "\n",
      "\u001b[34m\u001b[1mval: \u001b[0mScanning C:\\Users\\USER\\Desktop\\Football_Anal\\training\\football-players-detection-1\\football-players-detection-1\\valid\\labels...:   0%|          | 0/38 [00:00<?, ?it/s]\n",
      "\u001b[34m\u001b[1mval: \u001b[0mScanning C:\\Users\\USER\\Desktop\\Football_Anal\\training\\football-players-detection-1\\football-players-detection-1\\valid\\labels... 4 images, 0 backgrounds, 0 corrupt:  11%|█         | 4/38 [00:00<00:00, 39.41it/s]\n",
      "\u001b[34m\u001b[1mval: \u001b[0mScanning C:\\Users\\USER\\Desktop\\Football_Anal\\training\\football-players-detection-1\\football-players-detection-1\\valid\\labels... 12 images, 0 backgrounds, 0 corrupt:  32%|███▏      | 12/38 [00:00<00:00, 57.90it/s]\n",
      "\u001b[34m\u001b[1mval: \u001b[0mScanning C:\\Users\\USER\\Desktop\\Football_Anal\\training\\football-players-detection-1\\football-players-detection-1\\valid\\labels... 23 images, 0 backgrounds, 0 corrupt:  61%|██████    | 23/38 [00:00<00:00, 75.04it/s]\n",
      "\u001b[34m\u001b[1mval: \u001b[0mScanning C:\\Users\\USER\\Desktop\\Football_Anal\\training\\football-players-detection-1\\football-players-detection-1\\valid\\labels... 32 images, 0 backgrounds, 0 corrupt:  84%|████████▍ | 32/38 [00:00<00:00, 75.65it/s]\n",
      "\u001b[34m\u001b[1mval: \u001b[0mScanning C:\\Users\\USER\\Desktop\\Football_Anal\\training\\football-players-detection-1\\football-players-detection-1\\valid\\labels... 38 images, 0 backgrounds, 0 corrupt: 100%|██████████| 38/38 [00:00<00:00, 71.18it/s]\n",
      "2024/05/03 16:55:42 INFO mlflow.tracking.fluent: Experiment with name '/Shared/YOLOv8' does not exist. Creating a new experiment.\n",
      "\n",
      "  0%|          | 0/39 [00:00<?, ?it/s]\n"
     ]
    },
    {
     "name": "stdout",
     "output_type": "stream",
     "text": [
      "Ultralytics YOLOv8.2.7 🚀 Python-3.10.2 torch-2.3.0+cpu CPU (Intel Core(TM) i5-7200U 2.50GHz)\n",
      "\u001b[34m\u001b[1mengine\\trainer: \u001b[0mtask=detect, mode=train, model=yolov5xu.pt, data=data.yaml, epochs=100, time=None, patience=100, batch=16, imgsz=640, save=True, save_period=-1, cache=False, device=None, workers=8, project=None, name=train14, exist_ok=False, pretrained=True, optimizer=auto, verbose=True, seed=0, deterministic=True, single_cls=False, rect=False, cos_lr=False, close_mosaic=10, resume=False, amp=True, fraction=1.0, profile=False, freeze=None, multi_scale=False, overlap_mask=True, mask_ratio=4, dropout=0.0, val=True, split=val, save_json=False, save_hybrid=False, conf=None, iou=0.7, max_det=300, half=False, dnn=False, plots=True, source=None, vid_stride=1, stream_buffer=False, visualize=False, augment=False, agnostic_nms=False, classes=None, retina_masks=False, embed=None, show=False, save_frames=False, save_txt=False, save_conf=False, save_crop=False, show_labels=True, show_conf=True, show_boxes=True, line_width=None, format=torchscript, keras=False, optimize=False, int8=False, dynamic=False, simplify=False, opset=None, workspace=4, nms=False, lr0=0.01, lrf=0.01, momentum=0.937, weight_decay=0.0005, warmup_epochs=3.0, warmup_momentum=0.8, warmup_bias_lr=0.1, box=7.5, cls=0.5, dfl=1.5, pose=12.0, kobj=1.0, label_smoothing=0.0, nbs=64, hsv_h=0.015, hsv_s=0.7, hsv_v=0.4, degrees=0.0, translate=0.1, scale=0.5, shear=0.0, perspective=0.0, flipud=0.0, fliplr=0.5, bgr=0.0, mosaic=1.0, mixup=0.0, copy_paste=0.0, auto_augment=randaugment, erasing=0.4, crop_fraction=1.0, cfg=None, tracker=botsort.yaml, save_dir=runs\\detect\\train14\n",
      "Downloading https://ultralytics.com/assets/Arial.ttf to 'C:\\Users\\USER\\AppData\\Roaming\\Ultralytics\\Arial.ttf'...\n",
      "Overriding model.yaml nc=80 with nc=4\n",
      "\n",
      "                   from  n    params  module                                       arguments                     \n",
      "  0                  -1  1      8800  ultralytics.nn.modules.conv.Conv             [3, 80, 6, 2, 2]              \n",
      "  1                  -1  1    115520  ultralytics.nn.modules.conv.Conv             [80, 160, 3, 2]               \n",
      "  2                  -1  4    309120  ultralytics.nn.modules.block.C3              [160, 160, 4]                 \n",
      "  3                  -1  1    461440  ultralytics.nn.modules.conv.Conv             [160, 320, 3, 2]              \n",
      "  4                  -1  8   2259200  ultralytics.nn.modules.block.C3              [320, 320, 8]                 \n",
      "  5                  -1  1   1844480  ultralytics.nn.modules.conv.Conv             [320, 640, 3, 2]              \n",
      "  6                  -1 12  13125120  ultralytics.nn.modules.block.C3              [640, 640, 12]                \n",
      "  7                  -1  1   7375360  ultralytics.nn.modules.conv.Conv             [640, 1280, 3, 2]             \n",
      "  8                  -1  4  19676160  ultralytics.nn.modules.block.C3              [1280, 1280, 4]               \n",
      "  9                  -1  1   4099840  ultralytics.nn.modules.block.SPPF            [1280, 1280, 5]               \n",
      " 10                  -1  1    820480  ultralytics.nn.modules.conv.Conv             [1280, 640, 1, 1]             \n",
      " 11                  -1  1         0  torch.nn.modules.upsampling.Upsample         [None, 2, 'nearest']          \n",
      " 12             [-1, 6]  1         0  ultralytics.nn.modules.conv.Concat           [1]                           \n",
      " 13                  -1  4   5332480  ultralytics.nn.modules.block.C3              [1280, 640, 4, False]         \n",
      " 14                  -1  1    205440  ultralytics.nn.modules.conv.Conv             [640, 320, 1, 1]              \n",
      " 15                  -1  1         0  torch.nn.modules.upsampling.Upsample         [None, 2, 'nearest']          \n",
      " 16             [-1, 4]  1         0  ultralytics.nn.modules.conv.Concat           [1]                           \n",
      " 17                  -1  4   1335040  ultralytics.nn.modules.block.C3              [640, 320, 4, False]          \n",
      " 18                  -1  1    922240  ultralytics.nn.modules.conv.Conv             [320, 320, 3, 2]              \n",
      " 19            [-1, 14]  1         0  ultralytics.nn.modules.conv.Concat           [1]                           \n",
      " 20                  -1  4   4922880  ultralytics.nn.modules.block.C3              [640, 640, 4, False]          \n",
      " 21                  -1  1   3687680  ultralytics.nn.modules.conv.Conv             [640, 640, 3, 2]              \n",
      " 22            [-1, 10]  1         0  ultralytics.nn.modules.conv.Concat           [1]                           \n",
      " 23                  -1  4  19676160  ultralytics.nn.modules.block.C3              [1280, 1280, 4, False]        \n",
      " 24        [17, 20, 23]  1  11025820  ultralytics.nn.modules.head.Detect           [4, [320, 640, 1280]]         \n",
      "YOLOv5x summary: 493 layers, 97203260 parameters, 97203244 gradients, 246.9 GFLOPs\n",
      "\n",
      "Transferred 817/823 items from pretrained weights\n",
      "Freezing layer 'model.24.dfl.conv.weight'\n",
      "\u001b[34m\u001b[1mtrain: \u001b[0mNew cache created: C:\\Users\\USER\\Desktop\\Football_Anal\\training\\football-players-detection-1\\football-players-detection-1\\train\\labels.cache\n",
      "\u001b[34m\u001b[1mval: \u001b[0mNew cache created: C:\\Users\\USER\\Desktop\\Football_Anal\\training\\football-players-detection-1\\football-players-detection-1\\valid\\labels.cache\n",
      "Plotting labels to runs\\detect\\train14\\labels.jpg... \n",
      "\u001b[34m\u001b[1moptimizer:\u001b[0m 'optimizer=auto' found, ignoring 'lr0=0.01' and 'momentum=0.937' and determining best 'optimizer', 'lr0' and 'momentum' automatically... \n",
      "\u001b[34m\u001b[1moptimizer:\u001b[0m AdamW(lr=0.00125, momentum=0.9) with parameter groups 135 weight(decay=0.0), 142 weight(decay=0.0005), 141 bias(decay=0.0)\n",
      "\u001b[34m\u001b[1mMLflow: \u001b[0mlogging run_id(0010ef1f0b2f4d67b0cbc951b2727480) to runs\\mlflow\n",
      "\u001b[34m\u001b[1mMLflow: \u001b[0mview at http://127.0.0.1:5000 with 'mlflow server --backend-store-uri runs\\mlflow'\n",
      "\u001b[34m\u001b[1mMLflow: \u001b[0mdisable with 'yolo settings mlflow=False'\n",
      "Image sizes 640 train, 640 val\n",
      "Using 0 dataloader workers\n",
      "Logging results to \u001b[1mruns\\detect\\train14\u001b[0m\n",
      "Starting training for 100 epochs...\n",
      "\n",
      "      Epoch    GPU_mem   box_loss   cls_loss   dfl_loss  Instances       Size\n"
     ]
    }
   ],
   "source": [
    "!yolo task=detect mode=train model=yolov5xu.pt data=data.yaml epochs=100 imgsz=640"
   ]
  },
  {
   "cell_type": "code",
   "execution_count": null,
   "metadata": {},
   "outputs": [],
   "source": []
  },
  {
   "cell_type": "code",
   "execution_count": null,
   "metadata": {},
   "outputs": [],
   "source": []
  }
 ],
 "metadata": {
  "kernelspec": {
   "display_name": "cv_env",
   "language": "python",
   "name": "python3"
  },
  "language_info": {
   "codemirror_mode": {
    "name": "ipython",
    "version": 3
   },
   "file_extension": ".py",
   "mimetype": "text/x-python",
   "name": "python",
   "nbconvert_exporter": "python",
   "pygments_lexer": "ipython3",
   "version": "3.10.2"
  }
 },
 "nbformat": 4,
 "nbformat_minor": 2
}
